{
 "cells": [
  {
   "cell_type": "code",
   "execution_count": 1,
   "id": "e740b153",
   "metadata": {},
   "outputs": [],
   "source": [
    "import pickle\n",
    "import numpy as np"
   ]
  },
  {
   "cell_type": "code",
   "execution_count": 2,
   "id": "fbe9e3b2",
   "metadata": {},
   "outputs": [],
   "source": [
    "with open('Heart_disease_trained_model.pkl','rb') as file:\n",
    "   Heartchecker_model = pickle.load(file)"
   ]
  },
  {
   "cell_type": "code",
   "execution_count": 3,
   "id": "91833eb0",
   "metadata": {},
   "outputs": [],
   "source": [
    "input_data = (57,1,0,140,192,0,1,148,0,0.4,1,0,1)\n",
    "\n",
    "# CHANGE THE INPUT DATA TO A NUMPY ARRAY\n",
    "input_data_as_numpy_array = np.asarray(input_data)\n",
    "\n",
    "# RESHAPE THE NUMPY ARRAY \n",
    "input_data_reshaped = input_data_as_numpy_array.reshape(1,-1)"
   ]
  },
  {
   "cell_type": "code",
   "execution_count": 4,
   "id": "44124428",
   "metadata": {},
   "outputs": [
    {
     "name": "stderr",
     "output_type": "stream",
     "text": [
      "C:\\Users\\SHEHAN\\anaconda3\\lib\\site-packages\\sklearn\\base.py:450: UserWarning: X does not have valid feature names, but LogisticRegression was fitted with feature names\n",
      "  warnings.warn(\n"
     ]
    },
    {
     "data": {
      "text/plain": [
       "1"
      ]
     },
     "execution_count": 4,
     "metadata": {},
     "output_type": "execute_result"
    }
   ],
   "source": [
    "predict = Heartchecker_model.predict(input_data_reshaped)\n",
    "predict[0]"
   ]
  }
 ],
 "metadata": {
  "kernelspec": {
   "display_name": "Python 3 (ipykernel)",
   "language": "python",
   "name": "python3"
  },
  "language_info": {
   "codemirror_mode": {
    "name": "ipython",
    "version": 3
   },
   "file_extension": ".py",
   "mimetype": "text/x-python",
   "name": "python",
   "nbconvert_exporter": "python",
   "pygments_lexer": "ipython3",
   "version": "3.9.12"
  }
 },
 "nbformat": 4,
 "nbformat_minor": 5
}
